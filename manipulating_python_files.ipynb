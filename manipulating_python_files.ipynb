{
 "cells": [
  {
   "cell_type": "code",
   "execution_count": 1,
   "metadata": {},
   "outputs": [],
   "source": [
    "import os\n",
    "import shutil"
   ]
  },
  {
   "cell_type": "code",
   "execution_count": 4,
   "metadata": {},
   "outputs": [
    {
     "data": {
      "text/plain": [
       "'c:\\\\Users\\\\LAWRENCE\\\\Desktop\\\\SGA 1.3\\\\Intermediate_Dsci'"
      ]
     },
     "execution_count": 4,
     "metadata": {},
     "output_type": "execute_result"
    }
   ],
   "source": [
    "os.getcwd()"
   ]
  },
  {
   "cell_type": "code",
   "execution_count": 6,
   "metadata": {},
   "outputs": [],
   "source": [
    "os.chdir('c:\\\\Users\\\\LAWRENCE\\\\Desktop\\\\SGA 1.3')"
   ]
  },
  {
   "cell_type": "code",
   "execution_count": 8,
   "metadata": {},
   "outputs": [
    {
     "data": {
      "text/plain": [
       "'c:\\\\Users\\\\LAWRENCE\\\\Desktop\\\\SGA 1.3'"
      ]
     },
     "execution_count": 8,
     "metadata": {},
     "output_type": "execute_result"
    }
   ],
   "source": [
    "os.getcwd()"
   ]
  },
  {
   "cell_type": "code",
   "execution_count": 9,
   "metadata": {},
   "outputs": [
    {
     "data": {
      "text/plain": [
       "['.vscode',\n",
       " 'Assignments',\n",
       " 'celebrity.db',\n",
       " 'COMMAND LINE.docx',\n",
       " 'Data science Beginner',\n",
       " 'Git Push.docx',\n",
       " 'github_token.txt',\n",
       " 'Intermediate_Dsci',\n",
       " 'intermediate_python',\n",
       " 'merge_method.png',\n",
       " 'OOP',\n",
       " 'postgres_with_python',\n",
       " 'Python examples to create list of objects - CodeVsColor.pdf',\n",
       " 'python_basics',\n",
       " 'SQLite3',\n",
       " 'student.db',\n",
       " 'week1_project',\n",
       " '~$t Push.docx']"
      ]
     },
     "execution_count": 9,
     "metadata": {},
     "output_type": "execute_result"
    }
   ],
   "source": [
    "os.listdir() #list all files in the current working directory"
   ]
  },
  {
   "cell_type": "code",
   "execution_count": 10,
   "metadata": {},
   "outputs": [],
   "source": [
    "os.mkdir('New_folder')  #created a new folder"
   ]
  },
  {
   "cell_type": "code",
   "execution_count": 14,
   "metadata": {},
   "outputs": [],
   "source": [
    "os.chdir('c:\\\\Users\\\\LAWRENCE\\\\Desktop\\\\SGA 1.3\\\\New_folder')\n",
    "os.mkdir('c:\\\\Users\\\\LAWRENCE\\\\Desktop\\\\SGA 1.3\\\\New_folder\\\\file.txt')"
   ]
  },
  {
   "cell_type": "code",
   "execution_count": null,
   "metadata": {},
   "outputs": [],
   "source": []
  }
 ],
 "metadata": {
  "kernelspec": {
   "display_name": "Python 3.9.1 ('.venv': venv)",
   "language": "python",
   "name": "python3"
  },
  "language_info": {
   "codemirror_mode": {
    "name": "ipython",
    "version": 3
   },
   "file_extension": ".py",
   "mimetype": "text/x-python",
   "name": "python",
   "nbconvert_exporter": "python",
   "pygments_lexer": "ipython3",
   "version": "3.9.1"
  },
  "orig_nbformat": 4,
  "vscode": {
   "interpreter": {
    "hash": "62cff82d7a13317d20a8fbccb561d24121b4a851829e91aaa015352745184c7c"
   }
  }
 },
 "nbformat": 4,
 "nbformat_minor": 2
}
