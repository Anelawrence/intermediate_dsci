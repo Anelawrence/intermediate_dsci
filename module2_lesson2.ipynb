{
 "cells": [
  {
   "cell_type": "code",
   "execution_count": 11,
   "metadata": {},
   "outputs": [
    {
     "data": {
      "text/plain": [
       "3678"
      ]
     },
     "execution_count": 11,
     "metadata": {},
     "output_type": "execute_result"
    }
   ],
   "source": [
    "# import the necessary packages\n",
    "import pandas as pd\n",
    "import sqlalchemy\n",
    "from sqlalchemy import create_engine\n",
    "\n",
    "# Create the engine to connect to the inbuilt\n",
    "# sqllite database\n",
    "engine = create_engine(\"sqlite+pysqlite:///:memory:\")\n",
    "\n",
    "# Read data from CSV which will be\n",
    "# loaded as a dataframe object\n",
    "data = pd.read_csv('udemy_courses.csv')\n",
    "\n",
    "# print the sample of a dataframe\n",
    "data.head()\n",
    "\n",
    "# Write data into the table in sqllite database\n",
    "data.to_sql('ud_courses', engine)\n"
   ]
  },
  {
   "cell_type": "code",
   "execution_count": 12,
   "metadata": {},
   "outputs": [
    {
     "name": "stdout",
     "output_type": "stream",
     "text": [
      "engine created successfully\n",
      "   index  course_id                                       course_title  \\\n",
      "0      0    1070968                 Ultimate Investment Banking Course   \n",
      "1      1    1113822  Complete GST Course & Certification - Grow You...   \n",
      "2      2    1006314  Financial Modeling for Business Analysts and C...   \n",
      "3      3    1210588  Beginner to Pro - Financial Analysis in Excel ...   \n",
      "4      4    1011058       How To Maximize Your Profits Trading Options   \n",
      "5      5     192870  Trading Penny Stocks: A Guide for All Levels I...   \n",
      "6      6     739964  Investing And Trading For Beginners: Mastering...   \n",
      "7      7     403100  Trading Stock Chart Patterns For Immediate, Ex...   \n",
      "8      8     476268  Options Trading 3 : Advanced Stock Profit and ...   \n",
      "9      9    1167710  The Only Investment Strategy You Need For Your...   \n",
      "\n",
      "                                                 url  is_paid  price  \\\n",
      "0  https://www.udemy.com/ultimate-investment-bank...        1    200   \n",
      "1      https://www.udemy.com/goods-and-services-tax/        1     75   \n",
      "2  https://www.udemy.com/financial-modeling-for-b...        1     45   \n",
      "3  https://www.udemy.com/complete-excel-finance-c...        1     95   \n",
      "4  https://www.udemy.com/how-to-maximize-your-pro...        1    200   \n",
      "5  https://www.udemy.com/trading-penny-stocks-a-g...        1    150   \n",
      "6  https://www.udemy.com/investing-and-trading-fo...        1     65   \n",
      "7  https://www.udemy.com/trading-chart-patterns-f...        1     95   \n",
      "8  https://www.udemy.com/day-trading-stock-option...        1    195   \n",
      "9  https://www.udemy.com/the-only-investment-stra...        1    200   \n",
      "\n",
      "   num_subscribers  num_reviews  num_lectures               level  \\\n",
      "0             2147           23            51          All Levels   \n",
      "1             2792          923           274          All Levels   \n",
      "2             2174           74            51  Intermediate Level   \n",
      "3             2451           11            36          All Levels   \n",
      "4             1276           45            26  Intermediate Level   \n",
      "5             9221          138            25          All Levels   \n",
      "6             1540          178            26      Beginner Level   \n",
      "7             2917          148            23          All Levels   \n",
      "8             5172           34            38        Expert Level   \n",
      "9              827           14            15          All Levels   \n",
      "\n",
      "   content_duration   published_timestamp           subject  \n",
      "0               1.5  2017-01-18T20:58:58Z  Business Finance  \n",
      "1              39.0  2017-03-09T16:34:20Z  Business Finance  \n",
      "2               2.5  2016-12-19T19:26:30Z  Business Finance  \n",
      "3               3.0  2017-05-30T20:07:24Z  Business Finance  \n",
      "4               2.0  2016-12-13T14:57:18Z  Business Finance  \n",
      "5               3.0  2014-05-02T15:13:30Z  Business Finance  \n",
      "6               1.0  2016-02-21T18:23:12Z  Business Finance  \n",
      "7               2.5  2015-01-30T22:13:03Z  Business Finance  \n",
      "8               2.5  2015-05-28T00:14:03Z  Business Finance  \n",
      "9               1.0  2017-04-18T18:13:32Z  Business Finance  \n"
     ]
    }
   ],
   "source": [
    "# establish the connection with the engine object\n",
    "db_engine = engine.connect()\n",
    "print(\"engine created successfully\")\n",
    "\n",
    "# define a query function\n",
    "def query_db(query: str, db_conn: sqlalchemy.engine.base.Connection) -> pd.DataFrame:\n",
    "    df = pd.read_sql(query, db_conn)\n",
    "    print(df)\n",
    "    return df\n",
    "\n",
    "query_db(\"SELECT * FROM ud_courses LIMIT 10\", db_engine)\n",
    "\n",
    "db_engine.close()"
   ]
  },
  {
   "cell_type": "code",
   "execution_count": null,
   "metadata": {},
   "outputs": [],
   "source": [
    "# Write a query for paid courses, showing the  course with the highest number of subscribers per month\n",
    "\n",
    "# SELECT course_title \n",
    "# FROM ud_courses \n",
    "# WHERE is_paid = 1\n",
    "# ORDER BY num_subscribers DESC"
   ]
  }
 ],
 "metadata": {
  "kernelspec": {
   "display_name": "Python 3.9.1 ('.venv': venv)",
   "language": "python",
   "name": "python3"
  },
  "language_info": {
   "codemirror_mode": {
    "name": "ipython",
    "version": 3
   },
   "file_extension": ".py",
   "mimetype": "text/x-python",
   "name": "python",
   "nbconvert_exporter": "python",
   "pygments_lexer": "ipython3",
   "version": "3.9.1"
  },
  "orig_nbformat": 4,
  "vscode": {
   "interpreter": {
    "hash": "62cff82d7a13317d20a8fbccb561d24121b4a851829e91aaa015352745184c7c"
   }
  }
 },
 "nbformat": 4,
 "nbformat_minor": 2
}
