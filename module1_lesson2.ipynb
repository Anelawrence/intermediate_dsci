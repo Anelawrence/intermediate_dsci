{
 "cells": [
  {
   "cell_type": "code",
   "execution_count": 1,
   "metadata": {},
   "outputs": [],
   "source": [
    "# Create a function, that repeats the first 2 letters of a word which will be followed by 3 dots and a space after. \n",
    "# The string should be ended with a question mark. Look below for examples\n",
    "\n",
    "# Examples\n",
    "# stutter(\"victor\") ➞ vi... vi... victor?\"\n",
    "# stutter(\"amazing\") ➞ \"am... am... amazing?\n",
    "# stutter(\"good\") ➞ \"go... go... good?\"\n",
    "\n",
    "def stutter(x):\n",
    "    return (x[:2]+'... ')*2 + x[:]+'?'"
   ]
  },
  {
   "cell_type": "code",
   "execution_count": 4,
   "metadata": {},
   "outputs": [
    {
     "data": {
      "text/plain": [
       "'Vi... Vi... Victor?'"
      ]
     },
     "execution_count": 4,
     "metadata": {},
     "output_type": "execute_result"
    }
   ],
   "source": [
    "stutter('Victor')"
   ]
  },
  {
   "cell_type": "code",
   "execution_count": 2,
   "metadata": {},
   "outputs": [],
   "source": [
    "# Perform a for loop that searches through a string and prints only distinct vowel letters.\n",
    "\n",
    "# Examples\n",
    "# \"victor\" ➞ “io”\n",
    "# “amazing” ➞ \"ai\"\n",
    "# \"good\" ➞ \"o\"\n",
    "def vowels(x):\n",
    "    for i in x:\n",
    "        if i in \"aeiou\":\n",
    "            return i"
   ]
  },
  {
   "cell_type": "code",
   "execution_count": 3,
   "metadata": {},
   "outputs": [
    {
     "data": {
      "text/plain": [
       "'i'"
      ]
     },
     "execution_count": 3,
     "metadata": {},
     "output_type": "execute_result"
    }
   ],
   "source": [
    "vowels('fyfiuuiig')"
   ]
  },
  {
   "cell_type": "code",
   "execution_count": 33,
   "metadata": {},
   "outputs": [
    {
     "name": "stdout",
     "output_type": "stream",
     "text": [
      "\n"
     ]
    }
   ],
   "source": [
    "# Perform a while loop that requests for a name, if that name is entered, it will be printed else, \n",
    "# if user types “end” (this command should be case insensitive), the while loop is terminated\n",
    "\n",
    "# Examples\n",
    "#\"victor\" ➞  print(“victor”)\n",
    "# “amazing” ➞  print(“amazing”)\n",
    "# \"eNd\" ➞ terminate while loop\n",
    "# \"ENd\" ➞ terminate while loop\n",
    "\n",
    "def while_loop(x):\n",
    "    x=input()\n",
    "    while x.lower() != 'end':\n",
    "        return x\n",
    "    else:\n",
    "        pass\n",
    "print()"
   ]
  },
  {
   "cell_type": "code",
   "execution_count": 34,
   "metadata": {},
   "outputs": [
    {
     "ename": "NameError",
     "evalue": "name 'x' is not defined",
     "output_type": "error",
     "traceback": [
      "\u001b[1;31m---------------------------------------------------------------------------\u001b[0m",
      "\u001b[1;31mNameError\u001b[0m                                 Traceback (most recent call last)",
      "\u001b[1;32mc:\\Users\\LAWRENCE\\Desktop\\SGA 1.3\\Intermediate_Dsci\\module1_lesson2.ipynb Cell 6\u001b[0m in \u001b[0;36m<cell line: 1>\u001b[1;34m()\u001b[0m\n\u001b[1;32m----> <a href='vscode-notebook-cell:/c%3A/Users/LAWRENCE/Desktop/SGA%201.3/Intermediate_Dsci/module1_lesson2.ipynb#W6sZmlsZQ%3D%3D?line=0'>1</a>\u001b[0m while_loop(x)\n",
      "\u001b[1;31mNameError\u001b[0m: name 'x' is not defined"
     ]
    }
   ],
   "source": [
    "while_loop(x)"
   ]
  }
 ],
 "metadata": {
  "kernelspec": {
   "display_name": "Python 3.9.1 ('.venv': venv)",
   "language": "python",
   "name": "python3"
  },
  "language_info": {
   "codemirror_mode": {
    "name": "ipython",
    "version": 3
   },
   "file_extension": ".py",
   "mimetype": "text/x-python",
   "name": "python",
   "nbconvert_exporter": "python",
   "pygments_lexer": "ipython3",
   "version": "3.9.1"
  },
  "orig_nbformat": 4,
  "vscode": {
   "interpreter": {
    "hash": "62cff82d7a13317d20a8fbccb561d24121b4a851829e91aaa015352745184c7c"
   }
  }
 },
 "nbformat": 4,
 "nbformat_minor": 2
}
