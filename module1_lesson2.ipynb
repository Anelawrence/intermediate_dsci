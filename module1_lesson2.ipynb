{
 "cells": [
  {
   "cell_type": "code",
   "execution_count": 60,
   "metadata": {},
   "outputs": [],
   "source": [
    "# Create a function, that repeats the first 2 letters of a word which will be followed by 3 dots and a space after. \n",
    "# The string should be ended with a question mark. Look below for examples\n",
    "\n",
    "# Examples\n",
    "# stutter(\"victor\") ➞ vi... vi... victor?\"\n",
    "# stutter(\"amazing\") ➞ \"am... am... amazing?\n",
    "# stutter(\"good\") ➞ \"go... go... good?\"\n",
    "\n",
    "def stutter(txt):\n",
    "    return (txt[:2]+'... ')*2 + txt[:]+'?'"
   ]
  },
  {
   "cell_type": "code",
   "execution_count": 61,
   "metadata": {},
   "outputs": [
    {
     "data": {
      "text/plain": [
       "'Vi... Vi... Victor?'"
      ]
     },
     "execution_count": 61,
     "metadata": {},
     "output_type": "execute_result"
    }
   ],
   "source": [
    "stutter('Victor')"
   ]
  },
  {
   "cell_type": "code",
   "execution_count": 67,
   "metadata": {},
   "outputs": [],
   "source": [
    "# Perform a for loop that searches through a string and prints only distinct vowel letters.\n",
    "\n",
    "# Examples\n",
    "# \"victor\" ➞ “io”\n",
    "# “amazing” ➞ \"ai\"\n",
    "# \"good\" ➞ \"o\"\n",
    "def vowels(text):\n",
    "    vowel_list = [char for char in text if char in \"aeiouAEIOU\"]\n",
    "    return ''.join(vowel_list)"
   ]
  },
  {
   "cell_type": "code",
   "execution_count": 66,
   "metadata": {},
   "outputs": [
    {
     "data": {
      "text/plain": [
       "'Eo'"
      ]
     },
     "execution_count": 66,
     "metadata": {},
     "output_type": "execute_result"
    }
   ],
   "source": [
    "vowels('HEllo')\n",
    "    "
   ]
  },
  {
   "cell_type": "code",
   "execution_count": 71,
   "metadata": {},
   "outputs": [],
   "source": [
    "# Perform a while loop that requests for a name, if that name is entered, it will be printed else, \n",
    "# if user types “end” (this command should be case insensitive), the while loop is terminated\n",
    "\n",
    "# Examples\n",
    "#\"victor\" ➞  print(“victor”)\n",
    "# “amazing” ➞  print(“amazing”)\n",
    "# \"eNd\" ➞ terminate while loop\n",
    "# \"ENd\" ➞ terminate while loop\n",
    "\n",
    "def while_loop():\n",
    "    txt=input()\n",
    "    while txt.lower() != 'end':\n",
    "        return txt\n",
    "    else:\n",
    "        pass\n",
    "        print('Terminated')"
   ]
  },
  {
   "cell_type": "code",
   "execution_count": 75,
   "metadata": {},
   "outputs": [
    {
     "name": "stdout",
     "output_type": "stream",
     "text": [
      "Terminated\n"
     ]
    }
   ],
   "source": [
    "while_loop()"
   ]
  }
 ],
 "metadata": {
  "kernelspec": {
   "display_name": "Python 3.9.1 ('.venv': venv)",
   "language": "python",
   "name": "python3"
  },
  "language_info": {
   "codemirror_mode": {
    "name": "ipython",
    "version": 3
   },
   "file_extension": ".py",
   "mimetype": "text/x-python",
   "name": "python",
   "nbconvert_exporter": "python",
   "pygments_lexer": "ipython3",
   "version": "3.9.1"
  },
  "orig_nbformat": 4,
  "vscode": {
   "interpreter": {
    "hash": "62cff82d7a13317d20a8fbccb561d24121b4a851829e91aaa015352745184c7c"
   }
  }
 },
 "nbformat": 4,
 "nbformat_minor": 2
}
