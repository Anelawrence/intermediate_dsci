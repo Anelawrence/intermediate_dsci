{
 "cells": [
  {
   "cell_type": "code",
   "execution_count": 40,
   "metadata": {},
   "outputs": [
    {
     "data": {
      "text/plain": [
       "'ehllo'"
      ]
     },
     "execution_count": 40,
     "metadata": {},
     "output_type": "execute_result"
    }
   ],
   "source": [
    "#1 Create a function that takes a string and returns a string with its letters in alphabetical order.\n",
    "# Example:\n",
    "# alphabet_soup(\"hello\") ➞ \"ehllo\"\n",
    "\n",
    "def alphabet_soup(txt):\n",
    "\tsorted_txt = sorted(txt)    #sort aphabetically and convert to a list\n",
    "\treturn ''.join(sorted_txt)  #return a string using .join method\n",
    "\n",
    "alphabet_soup('hello')"
   ]
  },
  {
   "cell_type": "code",
   "execution_count": 27,
   "metadata": {},
   "outputs": [
    {
     "data": {
      "text/plain": [
       "0.5"
      ]
     },
     "execution_count": 27,
     "metadata": {},
     "output_type": "execute_result"
    }
   ],
   "source": [
    "#2 Create a function that takes two numbers and a mathematical operator + - / * and will perform a calculation with the given numbers.\n",
    "# Examples:\n",
    "# calculator(2, \"+\", 2) ➞ 4\n",
    "# calculator(2, \"*\", 2) ➞ 4\n",
    "# calculator(4, \"/\", 2) ➞ 2\n",
    "\n",
    "# first solution\n",
    "def calculator(num1, operator, num2):\n",
    "\ttry: \n",
    "\t\treturn eval('num1' + operator + 'num2')\n",
    "\texcept ZeroDivisionError:\n",
    "\t\treturn \"Can't divide by 0!\"\n",
    "\n",
    "# Second solution\n",
    "def calculator2(num1, operator, num2):\n",
    "\treturn \"Can't divide by 0!\" if num2==0 and operator=='/' else eval(str(num1) + operator + str(num2))\n",
    "\n",
    "calculator(2, '/',  4)"
   ]
  },
  {
   "cell_type": "code",
   "execution_count": 23,
   "metadata": {},
   "outputs": [
    {
     "data": {
      "text/plain": [
       "'Today, I am feeling neutral'"
      ]
     },
     "execution_count": 23,
     "metadata": {},
     "output_type": "execute_result"
    }
   ],
   "source": [
    "def mood_today(mood=\"neutral\"):\n",
    "    return f\"Today, I am feeling {mood}\"\n",
    "\n",
    "mood_today()"
   ]
  }
 ],
 "metadata": {
  "kernelspec": {
   "display_name": "Python 3.9.1 ('.venv': venv)",
   "language": "python",
   "name": "python3"
  },
  "language_info": {
   "codemirror_mode": {
    "name": "ipython",
    "version": 3
   },
   "file_extension": ".py",
   "mimetype": "text/x-python",
   "name": "python",
   "nbconvert_exporter": "python",
   "pygments_lexer": "ipython3",
   "version": "3.9.1"
  },
  "orig_nbformat": 4,
  "vscode": {
   "interpreter": {
    "hash": "62cff82d7a13317d20a8fbccb561d24121b4a851829e91aaa015352745184c7c"
   }
  }
 },
 "nbformat": 4,
 "nbformat_minor": 2
}
